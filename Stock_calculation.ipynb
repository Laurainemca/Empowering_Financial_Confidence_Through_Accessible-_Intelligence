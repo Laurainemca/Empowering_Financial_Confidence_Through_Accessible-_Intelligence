{
  "nbformat": 4,
  "nbformat_minor": 0,
  "metadata": {
    "colab": {
      "provenance": []
    },
    "kernelspec": {
      "name": "python3",
      "display_name": "Python 3"
    },
    "language_info": {
      "name": "python"
    }
  },
  "cells": [
    {
      "cell_type": "code",
      "execution_count": 17,
      "metadata": {
        "colab": {
          "base_uri": "https://localhost:8080/"
        },
        "id": "24zc8sl6BUKw",
        "outputId": "87a20458-2b8f-4d5e-c162-f9fa8e3d16b3"
      },
      "outputs": [
        {
          "output_type": "stream",
          "name": "stderr",
          "text": [
            "\r[*********************100%%**********************]  1 of 1 completed"
          ]
        },
        {
          "output_type": "stream",
          "name": "stdout",
          "text": [
            "                 Open       High        Low      Close  Adj Close     Volume\n",
            "Date                                                                        \n",
            "2020-01-02  74.059998  75.150002  73.797501  75.087502  72.960457  135480400\n",
            "2020-01-03  74.287498  75.144997  74.125000  74.357498  72.251160  146322800\n",
            "2020-01-06  73.447502  74.989998  73.187500  74.949997  72.826843  118387200\n",
            "2020-01-07  74.959999  75.224998  74.370003  74.597504  72.484344  108872000\n",
            "2020-01-08  74.290001  76.110001  74.290001  75.797501  73.650360  132079200\n"
          ]
        },
        {
          "output_type": "stream",
          "name": "stderr",
          "text": [
            "\n"
          ]
        }
      ],
      "source": [
        "import yfinance as yf\n",
        "import pandas as pd\n",
        "\n",
        "# Fetch historical market data for a specific stock\n",
        "def get_historical_data(ticker, start_date, end_date):\n",
        "    stock_data = yf.download(ticker, start=start_date, end=end_date)\n",
        "    return stock_data\n",
        "\n",
        "# Example usage\n",
        "ticker = 'AAPL'\n",
        "start_date = '2020-01-01'\n",
        "end_date = '2023-01-01'\n",
        "data = get_historical_data(ticker, start_date, end_date)\n",
        "print(data.head())\n"
      ]
    },
    {
      "cell_type": "code",
      "source": [
        "pip install statsmodels"
      ],
      "metadata": {
        "colab": {
          "base_uri": "https://localhost:8080/"
        },
        "id": "O7OjmQ0XCCFu",
        "outputId": "10b7cac5-4dcf-42f4-aacd-703367262917"
      },
      "execution_count": 3,
      "outputs": [
        {
          "output_type": "stream",
          "name": "stdout",
          "text": [
            "Requirement already satisfied: statsmodels in /usr/local/lib/python3.10/dist-packages (0.14.2)\n",
            "Requirement already satisfied: numpy>=1.22.3 in /usr/local/lib/python3.10/dist-packages (from statsmodels) (1.25.2)\n",
            "Requirement already satisfied: scipy!=1.9.2,>=1.8 in /usr/local/lib/python3.10/dist-packages (from statsmodels) (1.11.4)\n",
            "Requirement already satisfied: pandas!=2.1.0,>=1.4 in /usr/local/lib/python3.10/dist-packages (from statsmodels) (2.0.3)\n",
            "Requirement already satisfied: patsy>=0.5.6 in /usr/local/lib/python3.10/dist-packages (from statsmodels) (0.5.6)\n",
            "Requirement already satisfied: packaging>=21.3 in /usr/local/lib/python3.10/dist-packages (from statsmodels) (24.0)\n",
            "Requirement already satisfied: python-dateutil>=2.8.2 in /usr/local/lib/python3.10/dist-packages (from pandas!=2.1.0,>=1.4->statsmodels) (2.8.2)\n",
            "Requirement already satisfied: pytz>=2020.1 in /usr/local/lib/python3.10/dist-packages (from pandas!=2.1.0,>=1.4->statsmodels) (2023.4)\n",
            "Requirement already satisfied: tzdata>=2022.1 in /usr/local/lib/python3.10/dist-packages (from pandas!=2.1.0,>=1.4->statsmodels) (2024.1)\n",
            "Requirement already satisfied: six in /usr/local/lib/python3.10/dist-packages (from patsy>=0.5.6->statsmodels) (1.16.0)\n"
          ]
        }
      ]
    },
    {
      "cell_type": "code",
      "source": [
        "import statsmodels.api as sm\n",
        "import yfinance as yf\n",
        "\n",
        "# Fetch historical market data for a specific stock\n",
        "def get_historical_data(ticker, start_date, end_date):\n",
        "    stock_data = yf.download(ticker, start=start_date, end=end_date)\n",
        "    return stock_data\n",
        "\n",
        "# Function to train ARIMA model\n",
        "def train_arima_model(data):\n",
        "    model = sm.tsa.ARIMA(data, order=(5, 1, 0))\n",
        "    model_fit = model.fit()\n",
        "    return model_fit\n",
        "\n",
        "# Example usage\n",
        "ticker = 'AAPL'\n",
        "start_date = '2020-01-01'\n",
        "end_date = '2023-01-01'\n",
        "data = get_historical_data(ticker, start_date, end_date)\n",
        "\n",
        "# Make sure to set the date as index\n",
        "data.index = pd.to_datetime(data.index)\n",
        "data = data.asfreq('B')  # Ensure the data is at business day frequency\n",
        "\n",
        "# Train the ARIMA model using the 'Close' column\n",
        "model_fit = train_arima_model(data['Close'])\n",
        "forecast = model_fit.forecast(steps=5)\n",
        "print(forecast)\n"
      ],
      "metadata": {
        "colab": {
          "base_uri": "https://localhost:8080/"
        },
        "id": "yXlqd3e-Bcps",
        "outputId": "61c0dfc1-dd09-4b3b-d8cc-c5cecd93fc45"
      },
      "execution_count": 6,
      "outputs": [
        {
          "output_type": "stream",
          "name": "stderr",
          "text": [
            "\r[*********************100%%**********************]  1 of 1 completed\n"
          ]
        },
        {
          "output_type": "stream",
          "name": "stdout",
          "text": [
            "2023-01-02    129.838288\n",
            "2023-01-03    129.619911\n",
            "2023-01-04    129.527019\n",
            "2023-01-05    129.701268\n",
            "2023-01-06    129.710202\n",
            "Freq: B, Name: predicted_mean, dtype: float64\n"
          ]
        }
      ]
    },
    {
      "cell_type": "code",
      "source": [
        "import numpy as np\n",
        "\n",
        "# Function to calculate portfolio returns and volatility\n",
        "def portfolio_performance(weights, mean_returns, cov_matrix):\n",
        "    returns = np.sum(mean_returns * weights) * 252\n",
        "    std = np.sqrt(np.dot(weights.T, np.dot(cov_matrix, weights))) * np.sqrt(252)\n",
        "    return returns, std\n",
        "\n",
        "# Example usage\n",
        "mean_returns = data.pct_change().mean()\n",
        "cov_matrix = data.pct_change().cov()\n",
        "weights = np.random.random(len(mean_returns))\n",
        "weights /= np.sum(weights)\n",
        "returns, std = portfolio_performance(weights, mean_returns, cov_matrix)\n",
        "print(f'Expected Portfolio Return: {returns}')\n",
        "print(f'Expected Portfolio Volatility: {std}')\n"
      ],
      "metadata": {
        "colab": {
          "base_uri": "https://localhost:8080/"
        },
        "id": "NcLefd-fC6Xa",
        "outputId": "5df018c2-dd9d-4648-cac6-5239aa0c7280"
      },
      "execution_count": 7,
      "outputs": [
        {
          "output_type": "stream",
          "name": "stdout",
          "text": [
            "Expected Portfolio Return: 2.5680091707616564\n",
            "Expected Portfolio Volatility: 1.2917203099062384\n"
          ]
        }
      ]
    },
    {
      "cell_type": "code",
      "source": [
        "from sklearn.ensemble import RandomForestClassifier\n",
        "from sklearn.model_selection import train_test_split\n",
        "\n",
        "# Function to train Random Forest model\n",
        "def train_random_forest(X, y):\n",
        "    X_train, X_test, y_train, y_test = train_test_split(X, y, test_size=0.3, random_state=42)\n",
        "    model = RandomForestClassifier(n_estimators=100, random_state=42)\n",
        "    model.fit(X_train, y_train)\n",
        "    accuracy = model.score(X_test, y_test)\n",
        "    return model, accuracy\n",
        "\n",
        "# Example usage\n",
        "# X and y should be your features and target variable\n",
        "# model, accuracy = train_random_forest(X, y)\n",
        "# print(f'Random Forest Model Accuracy: {accuracy}')\n"
      ],
      "metadata": {
        "id": "uFszPSrfDF54"
      },
      "execution_count": 8,
      "outputs": []
    },
    {
      "cell_type": "code",
      "source": [
        "pip install surprise"
      ],
      "metadata": {
        "colab": {
          "base_uri": "https://localhost:8080/"
        },
        "id": "e3FJ6JOSDSLD",
        "outputId": "e2f28605-9244-4fd8-e436-6ff4bfff0a0b"
      },
      "execution_count": 10,
      "outputs": [
        {
          "output_type": "stream",
          "name": "stdout",
          "text": [
            "Collecting surprise\n",
            "  Downloading surprise-0.1-py2.py3-none-any.whl (1.8 kB)\n",
            "Collecting scikit-surprise (from surprise)\n",
            "  Downloading scikit_surprise-1.1.4.tar.gz (154 kB)\n",
            "\u001b[2K     \u001b[90m━━━━━━━━━━━━━━━━━━━━━━━━━━━━━━━━━━━━━━━━\u001b[0m \u001b[32m154.4/154.4 kB\u001b[0m \u001b[31m1.1 MB/s\u001b[0m eta \u001b[36m0:00:00\u001b[0m\n",
            "\u001b[?25h  Installing build dependencies ... \u001b[?25l\u001b[?25hdone\n",
            "  Getting requirements to build wheel ... \u001b[?25l\u001b[?25hdone\n",
            "  Preparing metadata (pyproject.toml) ... \u001b[?25l\u001b[?25hdone\n",
            "Requirement already satisfied: joblib>=1.2.0 in /usr/local/lib/python3.10/dist-packages (from scikit-surprise->surprise) (1.4.2)\n",
            "Requirement already satisfied: numpy>=1.19.5 in /usr/local/lib/python3.10/dist-packages (from scikit-surprise->surprise) (1.25.2)\n",
            "Requirement already satisfied: scipy>=1.6.0 in /usr/local/lib/python3.10/dist-packages (from scikit-surprise->surprise) (1.11.4)\n",
            "Building wheels for collected packages: scikit-surprise\n",
            "  Building wheel for scikit-surprise (pyproject.toml) ... \u001b[?25l\u001b[?25hdone\n",
            "  Created wheel for scikit-surprise: filename=scikit_surprise-1.1.4-cp310-cp310-linux_x86_64.whl size=2357235 sha256=97c7073965926bd7b353820827542b21fafe2ae1a5a554d925c7696c2afbb3c4\n",
            "  Stored in directory: /root/.cache/pip/wheels/4b/3f/df/6acbf0a40397d9bf3ff97f582cc22fb9ce66adde75bc71fd54\n",
            "Successfully built scikit-surprise\n",
            "Installing collected packages: scikit-surprise, surprise\n",
            "Successfully installed scikit-surprise-1.1.4 surprise-0.1\n"
          ]
        }
      ]
    },
    {
      "cell_type": "code",
      "source": [
        "from surprise import Dataset, Reader, SVD\n",
        "from surprise.model_selection import cross_validate\n",
        "\n",
        "# Load data into Surprise format\n",
        "data = Dataset.load_builtin('ml-100k')\n",
        "trainset = data.build_full_trainset()\n",
        "\n",
        "# Train SVD algorithm\n",
        "algo = SVD()\n",
        "cross_validate(algo, data, measures=['RMSE', 'MAE'], cv=5, verbose=True)\n",
        "\n",
        "# Fit the model\n",
        "algo.fit(trainset)\n"
      ],
      "metadata": {
        "colab": {
          "base_uri": "https://localhost:8080/"
        },
        "id": "Xk8DWjHjDL6c",
        "outputId": "119c95ba-ec28-4e1d-f53d-e74d1e3d7975"
      },
      "execution_count": 11,
      "outputs": [
        {
          "output_type": "stream",
          "name": "stdout",
          "text": [
            "Dataset ml-100k could not be found. Do you want to download it? [Y/n] y\n",
            "Trying to download dataset from https://files.grouplens.org/datasets/movielens/ml-100k.zip...\n",
            "Done! Dataset ml-100k has been saved to /root/.surprise_data/ml-100k\n",
            "Evaluating RMSE, MAE of algorithm SVD on 5 split(s).\n",
            "\n",
            "                  Fold 1  Fold 2  Fold 3  Fold 4  Fold 5  Mean    Std     \n",
            "RMSE (testset)    0.9315  0.9330  0.9464  0.9345  0.9333  0.9357  0.0054  \n",
            "MAE (testset)     0.7331  0.7339  0.7452  0.7358  0.7367  0.7369  0.0043  \n",
            "Fit time          3.46    4.31    1.48    1.47    1.47    2.44    1.21    \n",
            "Test time         0.28    0.24    0.28    0.12    0.12    0.21    0.07    \n"
          ]
        },
        {
          "output_type": "execute_result",
          "data": {
            "text/plain": [
              "<surprise.prediction_algorithms.matrix_factorization.SVD at 0x7e0c8672ba90>"
            ]
          },
          "metadata": {},
          "execution_count": 11
        }
      ]
    },
    {
      "cell_type": "code",
      "source": [
        "from transformers import pipeline\n",
        "\n",
        "# Load a pre-trained model\n",
        "nlp = pipeline('question-answering', model='distilbert-base-cased-distilled-squad')\n",
        "\n",
        "# Example usage\n",
        "context = \"The investment bot can provide insights on various stocks.\"\n",
        "question = \"What can the investment bot provide?\"\n",
        "result = nlp(question=question, context=context)\n",
        "print(result)\n"
      ],
      "metadata": {
        "colab": {
          "base_uri": "https://localhost:8080/"
        },
        "id": "S9cevTFsMT_6",
        "outputId": "2f22f8fa-3423-4114-ba98-78ca4ed56d2c"
      },
      "execution_count": 19,
      "outputs": [
        {
          "output_type": "stream",
          "name": "stdout",
          "text": [
            "{'score': 0.770281195640564, 'start': 31, 'end': 57, 'answer': 'insights on various stocks'}\n"
          ]
        }
      ]
    }
  ]
}